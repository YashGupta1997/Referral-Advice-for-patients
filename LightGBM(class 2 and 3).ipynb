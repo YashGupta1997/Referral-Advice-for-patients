{
 "cells": [
  {
   "cell_type": "code",
   "execution_count": 1,
   "metadata": {},
   "outputs": [],
   "source": [
    "import numpy as np\n",
    "import pandas as pd\n",
    "import sklearn\n",
    "import matplotlib.pyplot as plt\n",
    "import seaborn as sns\n",
    "from sklearn.model_selection import train_test_split, KFold\n",
    "from tqdm import tqdm\n",
    "from sklearn.tree import DecisionTreeClassifier\n",
    "from sklearn.metrics import accuracy_score\n",
    "import lightgbm as lgb\n",
    "from sklearn.metrics import confusion_matrix\n",
    "from sklearn.neural_network import MLPClassifier"
   ]
  },
  {
   "cell_type": "code",
   "execution_count": 2,
   "metadata": {},
   "outputs": [
    {
     "data": {
      "text/plain": [
       "<matplotlib.axes._subplots.AxesSubplot at 0x22da6469908>"
      ]
     },
     "execution_count": 2,
     "metadata": {},
     "output_type": "execute_result"
    },
    {
     "data": {
      "image/png": "[encoded data removed]",
      "text/plain": [
       "<Figure size 432x288 with 1 Axes>"
      ]
     },
     "metadata": {
      "needs_background": "light"
     },
     "output_type": "display_data"
    }
   ],
   "source": [
    "data = pd.read_feather('finalData.ft')\n",
    "columns=data.columns\n",
    "labels=data['Treatment']\n",
    "data = data.drop(('Treatment'),axis=1)\n",
    "data = data.to_numpy()\n",
    "sns.countplot(labels)"
   ]
  },
  {
   "cell_type": "code",
   "execution_count": 3,
   "metadata": {},
   "outputs": [
    {
     "name": "stdout",
     "output_type": "stream",
     "text": [
      "(225, 34)\n",
      "(1546,)\n",
      "(225,)\n"
     ]
    }
   ],
   "source": [
    "newData=[]\n",
    "newLabels=[]\n",
    "n=len(labels)\n",
    "for c in range(0,n,1):\n",
    "    point=labels[c]\n",
    "    if(point==2):\n",
    "        newData.append(data[c])\n",
    "        newLabels.append(0)\n",
    "    elif(point==3):\n",
    "        newData.append(data[c])\n",
    "        newLabels.append(1)\n",
    "\n",
    "newData=np.asarray(newData)\n",
    "newLabels=np.asarray(newLabels)\n",
    "print(newData.shape)\n",
    "print(labels.shape)\n",
    "print(newLabels.shape)"
   ]
  },
  {
   "cell_type": "code",
   "execution_count": 4,
   "metadata": {},
   "outputs": [
    {
     "name": "stderr",
     "output_type": "stream",
     "text": [
      "0it [00:00, ?it/s]"
     ]
    },
    {
     "name": "stdout",
     "output_type": "stream",
     "text": [
      "[[38  1]\n",
      " [10  8]]\n",
      "0.8070175438596491\n",
      "[[36  4]\n",
      " [ 7  9]]\n",
      "0.8035714285714286\n",
      "[[34  7]\n",
      " [10  5]]\n",
      "0.6964285714285714\n"
     ]
    },
    {
     "name": "stderr",
     "output_type": "stream",
     "text": [
      "3it [00:00, 27.35it/s]"
     ]
    },
    {
     "name": "stdout",
     "output_type": "stream",
     "text": [
      "[[36  4]\n",
      " [ 6 10]]\n",
      "0.8214285714285714\n"
     ]
    },
    {
     "name": "stderr",
     "output_type": "stream",
     "text": [
      "4it [00:00, 26.21it/s]\n"
     ]
    },
    {
     "name": "stdout",
     "output_type": "stream",
     "text": [
      "0.782111528822055\n"
     ]
    }
   ],
   "source": [
    "folds= KFold(n_splits=4, shuffle=True)\n",
    "accuracies=[]\n",
    "labels15=np.asarray(newLabels)\n",
    "data15=np.asarray(newData)\n",
    "bestClassifier15=lgb.LGBMClassifier(boosting_type='gbdt')\n",
    "bestScore=0\n",
    "for (train_index, test_index) in tqdm(folds.split(data15,labels15)):\n",
    "    xtrain , ytrain = data15[train_index.astype(int)] , labels15[train_index.astype(int)]\n",
    "    xtest , ytest = data15[test_index.astype(int)] , labels15[test_index.astype(int)]\n",
    "    \n",
    "    classifier15 = lgb.LGBMClassifier(boosting_type='gbdt')\n",
    "    classifier15.fit(xtrain , ytrain)\n",
    "    predicted = classifier15.predict(xtest)\n",
    "    accuracy = accuracy_score(ytest,predicted)\n",
    "    if(accuracy>bestScore):\n",
    "        bestScore=accuracy\n",
    "        bestClassifier15=classifier15\n",
    "    print(confusion_matrix(ytest,predicted))\n",
    "    accuracies.append(accuracy)\n",
    "    print(accuracy)\n",
    "    \n",
    "print(sum(accuracies)/len(accuracies))"
   ]
  },
  {
   "cell_type": "code",
   "execution_count": null,
   "metadata": {},
   "outputs": [],
   "source": []
  },
  {
   "cell_type": "code",
   "execution_count": null,
   "metadata": {},
   "outputs": [],
   "source": []
  }
 ],
 "metadata": {
  "kernelspec": {
   "display_name": "Python 3",
   "language": "python",
   "name": "python3"
  },
  "language_info": {
   "codemirror_mode": {
    "name": "ipython",
    "version": 3
   },
   "file_extension": ".py",
   "mimetype": "text/x-python",
   "name": "python",
   "nbconvert_exporter": "python",
   "pygments_lexer": "ipython3",
   "version": "3.7.3"
  }
 },
 "nbformat": 4,
 "nbformat_minor": 2
}
