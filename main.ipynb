{
 "cells": [
  {
   "cell_type": "code",
   "execution_count": 1,
   "metadata": {},
   "outputs": [],
   "source": [
    "import numpy as np\n",
    "import pandas as pd\n",
    "import sklearn\n",
    "import matplotlib.pyplot as plt\n",
    "import seaborn as sns\n",
    "from sklearn.model_selection import train_test_split, KFold\n",
    "from tqdm import tqdm\n",
    "from sklearn.tree import DecisionTreeClassifier\n",
    "from sklearn.metrics import accuracy_score, roc_curve \n",
    "import lightgbm as lgb\n",
    "from sklearn.metrics import confusion_matrix\n",
    "from sklearn.neural_network import MLPClassifier\n",
    "\n"
   ]
  },
  {
   "cell_type": "code",
   "execution_count": 2,
   "metadata": {},
   "outputs": [],
   "source": [
    "data = pd.read_feather('finalData.ft')\n"
   ]
  },
  {
   "cell_type": "code",
   "execution_count": 3,
   "metadata": {},
   "outputs": [],
   "source": [
    "columns=data.columns\n",
    "labels=data['Treatment']\n",
    "data = data.drop(('Treatment'),axis=1)\n",
    "data = data.to_numpy()"
   ]
  },
  {
   "cell_type": "code",
   "execution_count": 4,
   "metadata": {},
   "outputs": [
    {
     "data": {
      "text/plain": [
       "<matplotlib.axes._subplots.AxesSubplot at 0x24870b384e0>"
      ]
     },
     "execution_count": 4,
     "metadata": {},
     "output_type": "execute_result"
    },
    {
     "data": {
      "image/png": "[encoded data removed]",
      "text/plain": [
       "<Figure size 432x288 with 1 Axes>"
      ]
     },
     "metadata": {
      "needs_background": "light"
     },
     "output_type": "display_data"
    }
   ],
   "source": [
    "sns.countplot(labels)"
   ]
  },
  {
   "cell_type": "code",
   "execution_count": 5,
   "metadata": {},
   "outputs": [
    {
     "data": {
      "text/plain": [
       "<matplotlib.axes._subplots.AxesSubplot at 0x24870e68b70>"
      ]
     },
     "execution_count": 5,
     "metadata": {},
     "output_type": "execute_result"
    },
    {
     "data": {
      "image/png": "[encoded data removed]",
      "text/plain": [
       "<Figure size 432x288 with 1 Axes>"
      ]
     },
     "metadata": {
      "needs_background": "light"
     },
     "output_type": "display_data"
    }
   ],
   "source": [
    "labels=list(labels)\n",
    "for c in range(0,len(labels),1):\n",
    "    if(labels[c]==2 or labels[c]==3):\n",
    "        labels[c] = 6\n",
    "    elif(labels[c]==4):\n",
    "        labels[c]=5\n",
    "sns.countplot(labels)"
   ]
  },
  {
   "cell_type": "code",
   "execution_count": 6,
   "metadata": {},
   "outputs": [],
   "source": [
    "trainData, testData, trainLabels, testLabels = train_test_split(data,labels,test_size=0.15,stratify=labels)"
   ]
  },
  {
   "cell_type": "code",
   "execution_count": 7,
   "metadata": {},
   "outputs": [
    {
     "data": {
      "text/plain": [
       "Text(0, 0.5, 'Count')"
      ]
     },
     "execution_count": 7,
     "metadata": {},
     "output_type": "execute_result"
    },
    {
     "data": {
      "image/png": "[encoded data removed]",
      "text/plain": [
       "<Figure size 432x288 with 1 Axes>"
      ]
     },
     "metadata": {
      "needs_background": "light"
     },
     "output_type": "display_data"
    },
    {
     "data": {
      "image/png": "[encoded data removed]",
      "text/plain": [
       "<Figure size 432x288 with 1 Axes>"
      ]
     },
     "metadata": {
      "needs_background": "light"
     },
     "output_type": "display_data"
    }
   ],
   "source": [
    "data=trainData.copy()\n",
    "labels=trainLabels.copy()\n",
    "\n",
    "figure=plt.figure(1)\n",
    "sns.countplot(labels)\n",
    "plt.suptitle('Train Set')\n",
    "plt.xlabel('Classes')\n",
    "plt.ylabel('Count')\n",
    "\n",
    "figure=plt.figure(2)\n",
    "sns.countplot(testLabels)\n",
    "plt.suptitle('Test Set')\n",
    "plt.xlabel('Classes')\n",
    "plt.ylabel('Count')\n",
    "\n"
   ]
  },
  {
   "cell_type": "code",
   "execution_count": 8,
   "metadata": {},
   "outputs": [
    {
     "name": "stderr",
     "output_type": "stream",
     "text": [
      "0it [00:00, ?it/s]"
     ]
    },
    {
     "name": "stdout",
     "output_type": "stream",
     "text": [
      "[[58 57 20]\n",
      " [61 62 30]\n",
      " [17 15  9]]\n",
      "0.39209726443769\n",
      "[[60 60 19]\n",
      " [61 60 22]\n",
      " [28 13  6]]\n",
      "0.3829787234042553\n",
      "[[55 63 29]\n",
      " [47 64 15]\n",
      " [16 28 11]]\n",
      "0.39634146341463417\n",
      "[[66 55 18]\n",
      " [48 73 20]\n",
      " [16 24  8]]\n",
      "0.4481707317073171\n"
     ]
    },
    {
     "name": "stderr",
     "output_type": "stream",
     "text": [
      "4it [00:00, 74.24it/s]\n"
     ]
    },
    {
     "name": "stdout",
     "output_type": "stream",
     "text": [
      "0.4048970457409742\n"
     ]
    }
   ],
   "source": [
    "folds= KFold(n_splits=4, shuffle=True)\n",
    "accuracies=[]\n",
    "labels=np.asarray(labels)\n",
    "for (train_index, test_index) in tqdm(folds.split(data,labels)):\n",
    "    xtrain , ytrain = data[train_index.astype(int)] , labels[train_index.astype(int)]\n",
    "    xtest , ytest = data[test_index.astype(int)] , labels[test_index.astype(int)]\n",
    "    \n",
    "    classifier = DecisionTreeClassifier()\n",
    "    classifier.fit(xtrain , ytrain)\n",
    "    predicted = classifier.predict(xtest)\n",
    "    accuracy = accuracy_score(ytest,predicted)\n",
    "    print(confusion_matrix(ytest,predicted))\n",
    "    accuracies.append(accuracy)\n",
    "    print(accuracy)\n",
    "    \n",
    "print(sum(accuracies)/len(accuracies))"
   ]
  },
  {
   "cell_type": "code",
   "execution_count": 9,
   "metadata": {},
   "outputs": [
    {
     "name": "stderr",
     "output_type": "stream",
     "text": [
      "0it [00:00, ?it/s]"
     ]
    },
    {
     "name": "stdout",
     "output_type": "stream",
     "text": [
      "[[66 63  4]\n",
      " [60 78  4]\n",
      " [21 28  5]]\n",
      "0.45288753799392095\n"
     ]
    },
    {
     "name": "stderr",
     "output_type": "stream",
     "text": [
      "1it [00:00,  3.48it/s]"
     ]
    },
    {
     "name": "stdout",
     "output_type": "stream",
     "text": [
      "[[60 67 10]\n",
      " [53 84  9]\n",
      " [21 22  3]]\n",
      "0.44680851063829785\n"
     ]
    },
    {
     "name": "stderr",
     "output_type": "stream",
     "text": [
      "2it [00:00,  3.45it/s]"
     ]
    },
    {
     "name": "stdout",
     "output_type": "stream",
     "text": [
      "[[71 75  7]\n",
      " [52 72  5]\n",
      " [15 29  2]]\n",
      "0.4420731707317073\n"
     ]
    },
    {
     "name": "stderr",
     "output_type": "stream",
     "text": [
      "3it [00:00,  3.50it/s]"
     ]
    },
    {
     "name": "stdout",
     "output_type": "stream",
     "text": [
      "[[80 52  5]\n",
      " [66 70 10]\n",
      " [29 13  3]]\n",
      "0.46646341463414637\n"
     ]
    },
    {
     "name": "stderr",
     "output_type": "stream",
     "text": [
      "4it [00:01,  3.55it/s]\n"
     ]
    },
    {
     "name": "stdout",
     "output_type": "stream",
     "text": [
      "0.45205815849951814\n"
     ]
    }
   ],
   "source": [
    "folds= KFold(n_splits=4, shuffle=True)\n",
    "accuracies=[]\n",
    "labels=np.asarray(labels)\n",
    "for (train_index, test_index) in tqdm(folds.split(data,labels)):\n",
    "    xtrain , ytrain = data[train_index.astype(int)] , labels[train_index.astype(int)]\n",
    "    xtest , ytest = data[test_index.astype(int)] , labels[test_index.astype(int)]\n",
    "    \n",
    "    classifier = lgb.LGBMClassifier(boosting_type='gbdt')\n",
    "    classifier.fit(xtrain , ytrain)\n",
    "    predicted = classifier.predict(xtest)\n",
    "    accuracy = accuracy_score(ytest,predicted)\n",
    "    print(confusion_matrix(ytest,predicted))\n",
    "    accuracies.append(accuracy)\n",
    "    print(accuracy)\n",
    "    \n",
    "print(sum(accuracies)/len(accuracies))"
   ]
  },
  {
   "cell_type": "code",
   "execution_count": null,
   "metadata": {},
   "outputs": [],
   "source": [
    "\n"
   ]
  },
  {
   "cell_type": "code",
   "execution_count": 10,
   "metadata": {},
   "outputs": [
    {
     "name": "stderr",
     "output_type": "stream",
     "text": [
      "0it [00:00, ?it/s]"
     ]
    },
    {
     "name": "stdout",
     "output_type": "stream",
     "text": [
      "[[213  67]\n",
      " [ 37  12]]\n",
      "0.6838905775075987\n"
     ]
    },
    {
     "name": "stderr",
     "output_type": "stream",
     "text": [
      "1it [00:00,  7.63it/s]"
     ]
    },
    {
     "name": "stdout",
     "output_type": "stream",
     "text": [
      "[[197  89]\n",
      " [ 27  16]]\n",
      "0.6474164133738601\n"
     ]
    },
    {
     "name": "stderr",
     "output_type": "stream",
     "text": [
      "2it [00:00,  8.00it/s]"
     ]
    },
    {
     "name": "stdout",
     "output_type": "stream",
     "text": [
      "[[205  73]\n",
      " [ 34  16]]\n",
      "0.6737804878048781\n"
     ]
    },
    {
     "name": "stderr",
     "output_type": "stream",
     "text": [
      "3it [00:00,  8.28it/s]"
     ]
    },
    {
     "name": "stdout",
     "output_type": "stream",
     "text": [
      "[[208  71]\n",
      " [ 28  21]]\n",
      "0.698170731707317\n"
     ]
    },
    {
     "name": "stderr",
     "output_type": "stream",
     "text": [
      "4it [00:00,  8.25it/s]\n"
     ]
    },
    {
     "name": "stdout",
     "output_type": "stream",
     "text": [
      "0.6758145525984135\n"
     ]
    }
   ],
   "source": [
    "labels6=labels.copy()\n",
    "for c in range(0,len(labels6),1):\n",
    "    if(labels6[c]==6):\n",
    "        labels6[c]=1\n",
    "    else:\n",
    "        labels6[c]=0\n",
    "\n",
    "folds= KFold(n_splits=4, shuffle=True)\n",
    "accuracies=[]\n",
    "labels6=np.asarray(labels6)\n",
    "bestClassifier6=lgb.LGBMClassifier(boosting_type='gbdt')\n",
    "bestScore=0\n",
    "for (train_index, test_index) in tqdm(folds.split(data,labels6)):\n",
    "    xtrain , ytrain = data[train_index.astype(int)] , labels6[train_index.astype(int)]\n",
    "    xtest , ytest = data[test_index.astype(int)] , labels6[test_index.astype(int)]\n",
    "    \n",
    "    classifier6 = lgb.LGBMClassifier(boosting_type='gbdt')\n",
    "    classifier6.fit(xtrain , ytrain)\n",
    "    proba = classifier6.predict_proba(xtest)\n",
    "    predicted=(classifier6.predict_proba(xtest)[:,1] >= 0.07).astype(bool)\n",
    "    accuracy = accuracy_score(ytest,predicted)\n",
    "    if(accuracy>bestScore):\n",
    "        bestScore=accuracy\n",
    "        bestClassifier6=classifier6\n",
    "    print(confusion_matrix(ytest,predicted))\n",
    "    accuracies.append(accuracy)\n",
    "    print(accuracy)\n",
    "    \n",
    "print(sum(accuracies)/len(accuracies))"
   ]
  },
  {
   "cell_type": "code",
   "execution_count": null,
   "metadata": {},
   "outputs": [],
   "source": [
    "\n"
   ]
  },
  {
   "cell_type": "code",
   "execution_count": null,
   "metadata": {},
   "outputs": [],
   "source": []
  },
  {
   "cell_type": "code",
   "execution_count": 11,
   "metadata": {},
   "outputs": [
    {
     "name": "stderr",
     "output_type": "stream",
     "text": [
      "0it [00:00, ?it/s]"
     ]
    },
    {
     "name": "stdout",
     "output_type": "stream",
     "text": [
      "[[75 68]\n",
      " [63 75]]\n",
      "0.5338078291814946\n"
     ]
    },
    {
     "name": "stderr",
     "output_type": "stream",
     "text": [
      "1it [00:00,  9.09it/s]"
     ]
    },
    {
     "name": "stdout",
     "output_type": "stream",
     "text": [
      "[[78 55]\n",
      " [61 87]]\n",
      "0.5871886120996441\n"
     ]
    },
    {
     "name": "stderr",
     "output_type": "stream",
     "text": [
      "2it [00:00,  9.32it/s]"
     ]
    },
    {
     "name": "stdout",
     "output_type": "stream",
     "text": [
      "[[88 65]\n",
      " [51 77]]\n",
      "0.5871886120996441\n"
     ]
    },
    {
     "name": "stderr",
     "output_type": "stream",
     "text": [
      "3it [00:00,  9.49it/s]"
     ]
    },
    {
     "name": "stdout",
     "output_type": "stream",
     "text": [
      "[[74 60]\n",
      " [67 79]]\n",
      "0.5464285714285714\n"
     ]
    },
    {
     "name": "stderr",
     "output_type": "stream",
     "text": [
      "4it [00:00,  9.66it/s]\n"
     ]
    },
    {
     "name": "stdout",
     "output_type": "stream",
     "text": [
      "0.5636534062023385\n"
     ]
    }
   ],
   "source": [
    "data15=[]\n",
    "labels15=[]\n",
    "for c in range(0,len(labels),1):\n",
    "    label=labels[c]\n",
    "    if(label==1):\n",
    "        data15.append(data[c])\n",
    "        labels15.append(1)\n",
    "    elif(label==5):\n",
    "        data15.append(data[c])\n",
    "        labels15.append(0)\n",
    "\n",
    "folds= KFold(n_splits=4, shuffle=True)\n",
    "accuracies=[]\n",
    "labels15=np.asarray(labels15)\n",
    "data15=np.asarray(data15)\n",
    "bestClassifier15=lgb.LGBMClassifier(boosting_type='gbdt')\n",
    "bestScore=0\n",
    "for (train_index, test_index) in tqdm(folds.split(data15,labels15)):\n",
    "    xtrain , ytrain = data15[train_index.astype(int)] , labels15[train_index.astype(int)]\n",
    "    xtest , ytest = data15[test_index.astype(int)] , labels15[test_index.astype(int)]\n",
    "    \n",
    "    classifier15 = lgb.LGBMClassifier(boosting_type='gbdt')\n",
    "    classifier15.fit(xtrain , ytrain)\n",
    "    predicted = classifier15.predict(xtest)\n",
    "    accuracy = accuracy_score(ytest,predicted)\n",
    "    if(accuracy>bestScore):\n",
    "        bestScore=accuracy\n",
    "        bestClassifier15=classifier15\n",
    "    print(confusion_matrix(ytest,predicted))\n",
    "    accuracies.append(accuracy)\n",
    "    print(accuracy)\n",
    "    \n",
    "print(sum(accuracies)/len(accuracies))\n",
    "        \n",
    "        "
   ]
  },
  {
   "cell_type": "code",
   "execution_count": 12,
   "metadata": {},
   "outputs": [],
   "source": [
    "class6prob=[]\n",
    "class15prob=[]\n",
    "l1=[]\n",
    "l2=[]\n",
    "for record in data:\n",
    "    prob6=bestClassifier6.predict_proba(record.reshape(1,-1))[:,1]\n",
    "    class6prob.append(prob6)\n",
    "    l1.append(1-prob6)\n",
    "    prob15=bestClassifier15.predict_proba(record.reshape(1,-1))[:,1]\n",
    "    class15prob.append(prob15)\n",
    "    l2.append(1-prob15)\n",
    "\n"
   ]
  },
  {
   "cell_type": "code",
   "execution_count": 13,
   "metadata": {},
   "outputs": [
    {
     "name": "stderr",
     "output_type": "stream",
     "text": [
      "0it [00:00, ?it/s]"
     ]
    },
    {
     "name": "stdout",
     "output_type": "stream",
     "text": [
      "[[ 36   6   4]\n",
      " [  1 121  18]\n",
      " [  2  14 127]]\n",
      "0.8632218844984803\n"
     ]
    },
    {
     "name": "stderr",
     "output_type": "stream",
     "text": [
      "1it [00:02,  2.07s/it]"
     ]
    },
    {
     "name": "stdout",
     "output_type": "stream",
     "text": [
      "[[ 40   5   6]\n",
      " [  0 117  19]\n",
      " [  1  14 127]]\n",
      "0.8632218844984803\n"
     ]
    },
    {
     "name": "stderr",
     "output_type": "stream",
     "text": [
      "2it [00:04,  2.08s/it]"
     ]
    },
    {
     "name": "stdout",
     "output_type": "stream",
     "text": [
      "[[ 29   5  11]\n",
      " [  0 139  11]\n",
      " [  0   9 124]]\n",
      "0.8902439024390244\n"
     ]
    },
    {
     "name": "stderr",
     "output_type": "stream",
     "text": [
      "3it [00:06,  2.19s/it]"
     ]
    },
    {
     "name": "stdout",
     "output_type": "stream",
     "text": [
      "[[ 40   7   2]\n",
      " [  3 122   9]\n",
      " [  0  25 120]]\n",
      "0.8597560975609756\n"
     ]
    },
    {
     "name": "stderr",
     "output_type": "stream",
     "text": [
      "4it [00:08,  2.14s/it]\n"
     ]
    },
    {
     "name": "stdout",
     "output_type": "stream",
     "text": [
      "0.8691109422492401\n"
     ]
    }
   ],
   "source": [
    "\n",
    "bias=[1]*len(data)\n",
    "table = np.column_stack((bias,class6prob,class15prob,l1,l2))\n",
    "tableLabels=labels.copy()\n",
    "for c in range(0,len(tableLabels),1):\n",
    "    if(tableLabels[c]==6):\n",
    "        tableLabels[c]=-1\n",
    "    elif(tableLabels[c]==5):\n",
    "        tableLabels[c]=1\n",
    "    else:\n",
    "        tableLabels[c]=0\n",
    "accuracies=[]\n",
    "\n",
    "bestClassifier=MLPClassifier()\n",
    "bestScore=0\n",
    "\n",
    "for (train_index, test_index) in tqdm(folds.split(table,tableLabels)):\n",
    "    xtrain , ytrain = table[train_index.astype(int)] , tableLabels[train_index.astype(int)]\n",
    "    xtest , ytest = table[test_index.astype(int)] , tableLabels[test_index.astype(int)]\n",
    "    \n",
    "    classifier = MLPClassifier((5,3,3),activation='tanh',max_iter=1000,learning_rate='adaptive')\n",
    "    classifier.fit(xtrain , ytrain)\n",
    "    predicted = classifier.predict(xtest)\n",
    "    accuracy = accuracy_score(ytest,predicted)\n",
    "    if(accuracy>bestScore):\n",
    "        bestScore=accuracy\n",
    "        bestClassifier=classifier\n",
    "    print(confusion_matrix(ytest,predicted))\n",
    "    accuracies.append(accuracy)\n",
    "    print(accuracy)\n",
    "    \n",
    "print(sum(accuracies)/len(accuracies))\n",
    "\n"
   ]
  },
  {
   "cell_type": "code",
   "execution_count": 31,
   "metadata": {},
   "outputs": [
    {
     "data": {
      "text/plain": [
       "[<matplotlib.lines.Line2D at 0x24872994ac8>]"
      ]
     },
     "execution_count": 31,
     "metadata": {},
     "output_type": "execute_result"
    },
    {
     "data": {
      "image/png": "[encoded data removed]",
      "text/plain": [
       "<Figure size 720x720 with 1 Axes>"
      ]
     },
     "metadata": {
      "needs_background": "light"
     },
     "output_type": "display_data"
    }
   ],
   "source": [
    "t=columns.copy()\n",
    "t=list(t)\n",
    "t.remove('Treatment')\n",
    "feat_imp6 = pd.Series(classifier6.feature_importances_, index=t)\n",
    "feat_imp6.nlargest(30).plot(kind='barh', figsize=(10,10))\n",
    "x=[50]*50\n",
    "plt.plot(x,np.linspace(0,100),color='red')"
   ]
  },
  {
   "cell_type": "code",
   "execution_count": 30,
   "metadata": {},
   "outputs": [
    {
     "data": {
      "text/plain": [
       "[<matplotlib.lines.Line2D at 0x24872a40c88>]"
      ]
     },
     "execution_count": 30,
     "metadata": {},
     "output_type": "execute_result"
    },
    {
     "data": {
      "image/png": "[encoded data removed]",
      "text/plain": [
       "<Figure size 720x720 with 1 Axes>"
      ]
     },
     "metadata": {
      "needs_background": "light"
     },
     "output_type": "display_data"
    }
   ],
   "source": [
    "t=columns.copy()\n",
    "t=list(t)\n",
    "t.remove('Treatment')\n",
    "feat_imp15 = pd.Series(classifier15.feature_importances_, index=t)\n",
    "feat_imp15.nlargest(30).plot(kind='barh', figsize=(10,10))\n",
    "plt.plot(x,np.linspace(0,100),color='red')"
   ]
  },
  {
   "cell_type": "code",
   "execution_count": 34,
   "metadata": {},
   "outputs": [
    {
     "name": "stdout",
     "output_type": "stream",
     "text": [
      "['Duration_of_pain', 'Earlier_hospitalization', 'Extremely_nervous', 'Relationship_with_colleagues', 'Irrational_thoughts_risk_lasting', 'Irrational_thoughts_work', 'Coping_strategy', 'Kinesiophobia_physical_exercise', 'Kinesiophobia_pain_stop', 'Age', 'Uses_analgesics', 'Decreased_mobility', 'Weightloss_per_year', 'Loss_muscle_strength', 'Trauma', 'neck_pain_intensity', 'low_back_pain_intensity', 'leg_left_pain_intensity', 'leg_right_pain_intensity']\n"
     ]
    }
   ],
   "source": [
    "l1=[]\n",
    "for val in feat_imp15:\n",
    "    if(val>=50):\n",
    "        l1.append(1)\n",
    "    else:\n",
    "        l1.append(0)\n",
    "\n",
    "l2=[]\n",
    "for val in feat_imp6:\n",
    "    if(val>=50):\n",
    "        l2.append(1)\n",
    "    else:\n",
    "        l2.append(0)\n",
    "    \n",
    "impQuestions=[]\n",
    "for c in range(0,len(t),1):\n",
    "    if(l1[c]==1 or l2[c]==1):\n",
    "        impQuestions.append(t[c])\n",
    "print(impQuestions)\n",
    "        "
   ]
  },
  {
   "cell_type": "code",
   "execution_count": null,
   "metadata": {},
   "outputs": [],
   "source": []
  },
  {
   "cell_type": "code",
   "execution_count": 16,
   "metadata": {},
   "outputs": [
    {
     "name": "stdout",
     "output_type": "stream",
     "text": [
      "[[ 0 13 21]\n",
      " [ 0 58 41]\n",
      " [ 0 51 48]]\n",
      "0.45689655172413796\n"
     ]
    }
   ],
   "source": [
    "def testModel(x,y):\n",
    "    predicted=[]\n",
    "    ind0=[]\n",
    "    ind1=[]\n",
    "    ind2=[]\n",
    "    ind3=[]\n",
    "    for record in x:\n",
    "        temp=bestClassifier6.predict_proba(record.reshape(1,-1))[:,1]\n",
    "        ind0.append(temp)\n",
    "        ind1.append(1-temp)\n",
    "        temp=bestClassifier15.predict_proba(record.reshape(1,-1))[:,1]\n",
    "        ind2.append(temp)\n",
    "        ind3.append(1-temp)\n",
    "    bias=[1]*len(x)\n",
    "    newData=np.column_stack((bias,ind0,ind2,ind1,ind3))\n",
    "    ynew=y\n",
    "    for c in range(0,len(ynew),1):\n",
    "        if(ynew[c]==6):\n",
    "            ynew[c]=-1\n",
    "        elif(ynew[c]==5):\n",
    "            ynew[c]=1\n",
    "        elif(ynew[c]==1):\n",
    "            ynew[c]=0\n",
    "    pred=bestClassifier.predict(newData)\n",
    "    print(confusion_matrix(ynew,pred))\n",
    "    print(accuracy_score(ynew,pred))\n",
    "    \n",
    "    \n",
    "testModel(testData,testLabels)"
   ]
  },
  {
   "cell_type": "code",
   "execution_count": 17,
   "metadata": {},
   "outputs": [
    {
     "name": "stdout",
     "output_type": "stream",
     "text": [
      "(232,)\n"
     ]
    }
   ],
   "source": [
    "print(np.asarray(testLabels).shape)"
   ]
  },
  {
   "cell_type": "code",
   "execution_count": null,
   "metadata": {},
   "outputs": [],
   "source": []
  },
  {
   "cell_type": "code",
   "execution_count": null,
   "metadata": {},
   "outputs": [],
   "source": []
  },
  {
   "cell_type": "code",
   "execution_count": null,
   "metadata": {},
   "outputs": [],
   "source": []
  },
  {
   "cell_type": "code",
   "execution_count": null,
   "metadata": {},
   "outputs": [],
   "source": []
  }
 ],
 "metadata": {
  "kernelspec": {
   "display_name": "Python 3",
   "language": "python",
   "name": "python3"
  },
  "language_info": {
   "codemirror_mode": {
    "name": "ipython",
    "version": 3
   },
   "file_extension": ".py",
   "mimetype": "text/x-python",
   "name": "python",
   "nbconvert_exporter": "python",
   "pygments_lexer": "ipython3",
   "version": "3.7.3"
  }
 },
 "nbformat": 4,
 "nbformat_minor": 2
}
